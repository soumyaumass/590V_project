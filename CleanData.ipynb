{
 "cells": [
  {
   "cell_type": "code",
   "execution_count": 6,
   "metadata": {},
   "outputs": [],
   "source": [
    "import pandas as pd\n",
    "import glob"
   ]
  },
  {
   "cell_type": "code",
   "execution_count": 25,
   "metadata": {},
   "outputs": [
    {
     "name": "stdout",
     "output_type": "stream",
     "text": [
      "data/Bohemian Rhapsody.csv\n",
      "data/BohemianRhapsody.csv\n",
      "data/American Sniper.csv\n",
      "data/AmericanSniper.csv\n",
      "data/The King's Speech.csv\n",
      "data/TheKing'sSpeech.csv\n",
      "data/Selma.csv\n",
      "data/Selma.csv\n",
      "data/12 Years a Slave.csv\n",
      "data/12YearsaSlave.csv\n",
      "data/Spotlight.csv\n",
      "data/Spotlight.csv\n",
      "data/Rush.csv\n",
      "data/Rush.csv\n",
      "data/Captain Phillips.csv\n",
      "data/CaptainPhillips.csv\n",
      "data/Hidden Figures.csv\n",
      "data/HiddenFigures.csv\n",
      "data/The Imitation Game.csv\n",
      "data/TheImitationGame.csv\n",
      "data/Philomena.csv\n",
      "data/Philomena.csv\n",
      "data/Bridge of Spies.csv\n",
      "data/BridgeofSpies.csv\n",
      "data/The Big Short.csv\n",
      "data/TheBigShort.csv\n",
      "data/The Social Network.csv\n",
      "data/TheSocialNetwork.csv\n",
      "data/Lion.csv\n",
      "data/Lion.csv\n",
      "data/Dallas Buyers Club.csv\n",
      "data/DallasBuyersClub.csv\n",
      "data/Wolf of Wall Street.csv\n",
      "data/WolfofWallStreet.csv\n"
     ]
    }
   ],
   "source": [
    "\n",
    "path = \"data/\"\n",
    "for fname in glob.glob(path+\"*.csv\"):\n",
    "    print(fname)\n",
    "    data = pd.read_csv(fname)\n",
    "    data = data.drop(columns='start')\n",
    "    data.rename(columns={'truth int':'truth_int','fiction type':'fiction_type','film condensed':'film_condensed','reality condensed':'reality_condensed'},inplace=True)\n",
    "    fileName = fname.replace(\" \",\"\")\n",
    "    print(fileName)\n",
    "    data.to_csv(fileName)"
   ]
  },
  {
   "cell_type": "code",
   "execution_count": null,
   "metadata": {},
   "outputs": [],
   "source": []
  }
 ],
 "metadata": {
  "kernelspec": {
   "display_name": "Python 3",
   "language": "python",
   "name": "python3"
  },
  "language_info": {
   "codemirror_mode": {
    "name": "ipython",
    "version": 3
   },
   "file_extension": ".py",
   "mimetype": "text/x-python",
   "name": "python",
   "nbconvert_exporter": "python",
   "pygments_lexer": "ipython3",
   "version": "3.6.7"
  }
 },
 "nbformat": 4,
 "nbformat_minor": 2
}
